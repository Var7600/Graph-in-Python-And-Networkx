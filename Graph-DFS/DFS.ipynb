{
 "cells": [
  {
   "cell_type": "code",
   "execution_count": 1,
   "id": "602ba8e9-ea18-4568-a80e-7cfb4fad8d9c",
   "metadata": {},
   "outputs": [],
   "source": [
    "import networkx as nx\n",
    "import matplotlib.pyplot as plt\n",
    "import numpy as np"
   ]
  },
  {
   "cell_type": "code",
   "execution_count": 2,
   "id": "fa207ce6-0f24-4a08-b580-ace507625055",
   "metadata": {},
   "outputs": [],
   "source": [
    "Agraph = { 'A' : ['B' , 'C'],\n",
    "          'B' : ['A' , 'C' , 'D'] ,\n",
    "          'C' : ['A' , 'B' , 'D' , 'E'] ,\n",
    "          'D' : ['B' , 'C' , 'E' , 'F'],\n",
    "          'E' : ['C', 'D' , 'F'] ,\n",
    "          'F' : ['D' , 'E'] }"
   ]
  },
  {
   "cell_type": "code",
   "execution_count": 5,
   "id": "a0225f5a-b8e9-4287-a152-c34d0c6e6442",
   "metadata": {},
   "outputs": [],
   "source": [
    "def DFS(graph, start):\n",
    "    stack = [start]\n",
    "    parents = {start: start}\n",
    "    path = list()\n",
    "    \n",
    "    while stack:\n",
    "        print('stack : %s' %stack)\n",
    "        node = stack.pop(-1)\n",
    "        print('current node: %s' %node)\n",
    "        for edge in graph[node]:\n",
    "            if edge not in parents:\n",
    "                parents[edge] = node\n",
    "                stack.append(edge)\n",
    "                print('added to stack %s' %edge)\n",
    "                path.append(parents[edge]+ '->'+ edge)\n",
    "    return path"
   ]
  },
  {
   "cell_type": "code",
   "execution_count": 6,
   "id": "f69e2a2d-143d-4f2d-9d60-a836626bce73",
   "metadata": {},
   "outputs": [
    {
     "name": "stdout",
     "output_type": "stream",
     "text": [
      "stack : ['A']\n",
      "current node: A\n",
      "added to stack B\n",
      "added to stack C\n",
      "stack : ['B', 'C']\n",
      "current node: C\n",
      "added to stack D\n",
      "added to stack E\n",
      "stack : ['B', 'D', 'E']\n",
      "current node: E\n",
      "added to stack F\n",
      "stack : ['B', 'D', 'F']\n",
      "current node: F\n",
      "stack : ['B', 'D']\n",
      "current node: D\n",
      "stack : ['B']\n",
      "current node: B\n",
      "['A->B', 'A->C', 'C->D', 'C->E', 'E->F']\n"
     ]
    }
   ],
   "source": [
    "print(DFS(Agraph, 'A'))"
   ]
  },
  {
   "cell_type": "code",
   "execution_count": 7,
   "id": "891157de-4fbc-4a93-a309-c5b3ea8f3f9c",
   "metadata": {},
   "outputs": [],
   "source": [
    "G = nx.Graph(Agraph)"
   ]
  },
  {
   "cell_type": "code",
   "execution_count": 8,
   "id": "8b825f73-1c11-4cd2-92bb-2be897b35678",
   "metadata": {},
   "outputs": [
    {
     "name": "stdout",
     "output_type": "stream",
     "text": [
      "[('A', 'B'), ('B', 'C'), ('C', 'D'), ('D', 'E'), ('E', 'F')]\n"
     ]
    }
   ],
   "source": [
    "print(list(nx.dfs_edges(G, 'A')))"
   ]
  },
  {
   "cell_type": "code",
   "execution_count": null,
   "id": "d64c4014-a78b-42a7-9a4f-984ddc1d76de",
   "metadata": {},
   "outputs": [],
   "source": []
  }
 ],
 "metadata": {
  "kernelspec": {
   "display_name": "Python 3 (ipykernel)",
   "language": "python",
   "name": "python3"
  },
  "language_info": {
   "codemirror_mode": {
    "name": "ipython",
    "version": 3
   },
   "file_extension": ".py",
   "mimetype": "text/x-python",
   "name": "python",
   "nbconvert_exporter": "python",
   "pygments_lexer": "ipython3",
   "version": "3.12.9"
  }
 },
 "nbformat": 4,
 "nbformat_minor": 5
}

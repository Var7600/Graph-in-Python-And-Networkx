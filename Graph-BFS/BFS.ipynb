{
 "cells": [
  {
   "cell_type": "code",
   "execution_count": 1,
   "id": "8aed10b8-f8e5-4d2f-923d-64d067241ba0",
   "metadata": {},
   "outputs": [],
   "source": [
    "# pip install numpy networkx matplotlib\n",
    "import numpy as np\n",
    "import networkx as nx\n",
    "import matplotlib as plt\n",
    "%matplotlib inline"
   ]
  },
  {
   "cell_type": "code",
   "execution_count": 2,
   "id": "b289fcde-c183-4511-9612-9ac925b39f20",
   "metadata": {},
   "outputs": [],
   "source": [
    "Agraph = { 'A' : ['B' , 'C'],\n",
    "          'B' : ['A' , 'C' , 'D'] ,\n",
    "          'C' : ['A' , 'B' , 'D' , 'E'] ,\n",
    "          'D' : ['B' , 'C' , 'E' , 'F'],\n",
    "          'E' : ['C', 'D' , 'F'] ,\n",
    "          'F' : ['D' , 'E'] }"
   ]
  },
  {
   "cell_type": "code",
   "execution_count": 9,
   "id": "77937de8-1613-47f5-ba56-9399ec9976c9",
   "metadata": {},
   "outputs": [],
   "source": [
    "def BFS(graph,start):\n",
    "    queue = [start]\n",
    "    visited = []\n",
    "    path = []\n",
    "    while queue:\n",
    "        print('current node : %s' %queue)\n",
    "        node = queue.pop(0)\n",
    "        for edge in graph[node]:\n",
    "            if edge not in visited:\n",
    "                queue.append(edge)\n",
    "                visited.append(edge)\n",
    "                path.append(node+'->'+edge)\n",
    "                print('edges into the queue %s' %edge)\n",
    "    return path"
   ]
  },
  {
   "cell_type": "code",
   "execution_count": 10,
   "id": "e62ead9a-1767-45e9-8d80-07d4cfd4ce40",
   "metadata": {},
   "outputs": [
    {
     "name": "stdout",
     "output_type": "stream",
     "text": [
      "current node : ['A']\n",
      "edges into the queue B\n",
      "edges into the queue C\n",
      "current node : ['B', 'C']\n",
      "edges into the queue A\n",
      "edges into the queue D\n",
      "current node : ['C', 'A', 'D']\n",
      "edges into the queue E\n",
      "current node : ['A', 'D', 'E']\n",
      "current node : ['D', 'E']\n",
      "edges into the queue F\n",
      "current node : ['E', 'F']\n",
      "current node : ['F']\n",
      "['A->B', 'A->C', 'B->A', 'B->D', 'C->E', 'D->F']\n"
     ]
    }
   ],
   "source": [
    "print(BFS(Agraph,'A'))"
   ]
  },
  {
   "cell_type": "code",
   "execution_count": 7,
   "id": "bd47e933-114a-4aec-b716-a5e271be3b84",
   "metadata": {},
   "outputs": [],
   "source": [
    "G = nx.Graph(Agraph)"
   ]
  },
  {
   "cell_type": "code",
   "execution_count": 8,
   "id": "858bd012-6777-4249-b593-2637847c2ef5",
   "metadata": {},
   "outputs": [
    {
     "data": {
      "text/plain": [
       "[('A', 'B'), ('A', 'C'), ('B', 'D'), ('C', 'E'), ('D', 'F')]"
      ]
     },
     "execution_count": 8,
     "metadata": {},
     "output_type": "execute_result"
    }
   ],
   "source": [
    "list(nx.bfs_edges(G,'A'))"
   ]
  },
  {
   "cell_type": "code",
   "execution_count": null,
   "id": "48a4b0c1-2e94-4004-b1c1-301b79749944",
   "metadata": {},
   "outputs": [],
   "source": []
  }
 ],
 "metadata": {
  "kernelspec": {
   "display_name": "Python 3 (ipykernel)",
   "language": "python",
   "name": "python3"
  },
  "language_info": {
   "codemirror_mode": {
    "name": "ipython",
    "version": 3
   },
   "file_extension": ".py",
   "mimetype": "text/x-python",
   "name": "python",
   "nbconvert_exporter": "python",
   "pygments_lexer": "ipython3",
   "version": "3.12.9"
  }
 },
 "nbformat": 4,
 "nbformat_minor": 5
}
